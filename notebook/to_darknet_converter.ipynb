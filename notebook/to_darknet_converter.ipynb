{
 "cells": [
  {
   "cell_type": "code",
   "execution_count": 1,
   "metadata": {},
   "outputs": [],
   "source": [
    "import numpy as np \n",
    "import json \n",
    "import os\n",
    "import shutil\n",
    "import ast\n",
    "from tqdm import tqdm\n",
    "import pandas as pd\n",
    "from sklearn import model_selection"
   ]
  },
  {
   "cell_type": "code",
   "execution_count": 2,
   "metadata": {},
   "outputs": [],
   "source": [
    "def conv_bbox(box_dict):\n",
    "    \n",
    "    xs = np.array(list(set([i['x'] for i in box_dict])))\n",
    "    ys = np.array(list(set([i['y'] for i in box_dict])))\n",
    "    \n",
    "    x_min = xs.min()\n",
    "    x_max = xs.max()\n",
    "    y_min = ys.min()\n",
    "    y_max = ys.max()\n",
    "    \n",
    "    return y_min, x_min, y_max, x_max\n",
    "\n",
    "def convert(data, data_type):\n",
    "    df = data.groupby('image_name')['bbox'].apply(list).reset_index(name='bboxes')\n",
    "    df['classes'] = data.groupby('image_name')['class'].apply(list).reset_index(drop=True)\n",
    "    df.to_csv(data_type + '.csv', index=False)\n",
    "    print(data_type)\n",
    "    print(df.shape)\n",
    "    print(df.head())"
   ]
  },
  {
   "cell_type": "code",
   "execution_count": 3,
   "metadata": {},
   "outputs": [
    {
     "name": "stdout",
     "output_type": "stream",
     "text": [
      "/home/okta/side-project/TECHBROS/Code/AI-DATA/OTHER/stockpile-detection/archive/oil-tanks/try\n",
      "['digits-jobs', 'tank_data', 'data', 'image_patches', 'data_converter.py', 'data_converter.ipynb', 'labels.json']\n"
     ]
    }
   ],
   "source": [
    "DATA_PATH = os.getcwd()\n",
    "print(DATA_PATH)\n",
    "print(os.listdir(DATA_PATH))\n",
    "source = os.path.join(DATA_PATH,'image_patches')\n",
    "destination_1 = 'train' #Train images(only tank containing images)\n",
    "destination_2 = 'test' #Test images\n",
    "\n",
    "if not os.path.isdir(destination_1):\n",
    "    os.mkdir(destination_1)\n",
    "if not os.path.isdir(destination_2):\n",
    "    os.mkdir(destination_2)\n",
    "label_to_num = {'dontcare': 0, 'Tank': 1, 'Tank Cluster': 2, 'Floating Head Tank': 3}"
   ]
  },
  {
   "cell_type": "code",
   "execution_count": 4,
   "metadata": {},
   "outputs": [
    {
     "name": "stderr",
     "output_type": "stream",
     "text": [
      "100%|██████████| 10000/10000 [00:11<00:00, 862.93it/s]\n"
     ]
    }
   ],
   "source": [
    "annotations = []\n",
    "\n",
    "json_labels = json.load(open(os.path.join(DATA_PATH,'labels.json')))\n",
    "for i in tqdm(range(len(json_labels))):\n",
    "    file = json_labels[i]['file_name']\n",
    "    if(file.startswith('01')):\n",
    "        shutil.copy(source+'/'+file,destination_2)\n",
    "    elif(json_labels[i]['label']!='Skip'):  \n",
    "        shutil.copy(source+'/'+file,destination_1)\n",
    "        for label in json_labels[i]['label'].keys():\n",
    "            for box in json_labels[i]['label'][label]:\n",
    "                y_min, x_min, y_max, x_max = conv_bbox(box['geometry'])\n",
    "                width = x_max - x_min\n",
    "                height = y_max - y_min\n",
    "                annotations.append((file.split('.')[0] ,label_to_num[label], label, [x_min, y_min, width, height]))\n",
    "\n",
    "annotations = pd.DataFrame(annotations, columns=['image_name', 'class', 'class_name', 'bbox'])"
   ]
  },
  {
   "cell_type": "code",
   "execution_count": 5,
   "metadata": {},
   "outputs": [
    {
     "name": "stdout",
     "output_type": "stream",
     "text": [
      "train\n",
      "(1720, 3)\n",
      "  image_name                                             bboxes  \\\n",
      "0     02_0_7           [[123, 470, 72, 41], [426, 490, 75, 22]]   \n",
      "1     02_0_8  [[1, 491, 26, 19], [58, 476, 50, 35], [62, 291...   \n",
      "2     02_1_5           [[393, 389, 42, 39], [375, 440, 31, 28]]   \n",
      "3     02_1_6  [[28, 488, 18, 17], [128, 456, 17, 17], [158, ...   \n",
      "4     02_1_7  [[304, 299, 22, 22], [320, 26, 41, 39], [339, ...   \n",
      "\n",
      "                          classes  \n",
      "0                          [1, 1]  \n",
      "1              [1, 1, 1, 1, 1, 1]  \n",
      "2                          [1, 1]  \n",
      "3     [1, 1, 1, 3, 1, 1, 1, 1, 1]  \n",
      "4  [1, 1, 1, 1, 1, 1, 1, 1, 1, 1]  \n",
      "validation\n",
      "(565, 3)\n",
      "  image_name                                    bboxes classes\n",
      "0     02_0_7                      [[321, 501, 38, 11]]     [1]\n",
      "1     02_1_7                       [[262, 84, 32, 31]]     [1]\n",
      "2     02_2_0                      [[286, 439, 61, 61]]     [1]\n",
      "3     02_2_3  [[441, 417, 70, 95], [196, 289, 91, 92]]  [3, 3]\n",
      "4     02_2_6                      [[257, 493, 34, 19]]     [1]\n"
     ]
    }
   ],
   "source": [
    "df_train, df_valid= model_selection.train_test_split(\n",
    "    annotations, \n",
    "    test_size=0.1, \n",
    "    random_state=42, \n",
    "    shuffle=True, \n",
    "    stratify = annotations['class']\n",
    ")\n",
    "\n",
    "df_train = convert(df_train, 'train')\n",
    "df_valid = convert(df_valid, 'validation')"
   ]
  },
  {
   "cell_type": "code",
   "execution_count": 6,
   "metadata": {},
   "outputs": [],
   "source": [
    "tank_data = 'tank_data'\n",
    "if not os.path.isdir(tank_data):\n",
    "    os.mkdir(tank_data)\n",
    "\n",
    "tank_data_dir = DATA_PATH + '/tank_data'\n",
    "os.chdir(tank_data_dir)\n",
    "labels_dir = 'labels'\n",
    "images_dir = 'images'\n",
    "\n",
    "if not os.path.isdir(images_dir):\n",
    "    os.mkdir(images_dir)\n",
    "if not os.path.isdir(labels_dir):\n",
    "    os.mkdir(labels_dir)\n",
    "\n",
    "tank_data_images = tank_data_dir + '/images'\n",
    "os.chdir(tank_data_images)\n",
    "tank_data_images_train = 'train'\n",
    "tank_data_images_validation = 'validation'\n",
    "\n",
    "if not os.path.isdir(tank_data_images_train):\n",
    "    os.mkdir(tank_data_images_train)\n",
    "if not os.path.isdir(tank_data_images_validation):\n",
    "    os.mkdir(tank_data_images_validation)\n",
    "\n",
    "tank_data_labels = tank_data_dir + '/labels'\n",
    "os.chdir(tank_data_labels)\n",
    "tank_data_labels_train = 'train'\n",
    "tank_data_labels_validation = 'validation'\n",
    "\n",
    "if not os.path.isdir(tank_data_labels_train):\n",
    "    os.mkdir(tank_data_labels_train)\n",
    "if not os.path.isdir(tank_data_labels_validation):\n",
    "    os.mkdir(tank_data_labels_validation)\n",
    "\n",
    "os.chdir(DATA_PATH)"
   ]
  },
  {
   "cell_type": "code",
   "execution_count": 7,
   "metadata": {},
   "outputs": [],
   "source": [
    "INPUT_PATH = DATA_PATH\n",
    "OUTPUT_PATH = INPUT_PATH+'/tank_data'\n",
    "def process_data(data, data_type='train'):\n",
    "    for _, row in tqdm(data.iterrows(), total = len(data)):\n",
    "        image_name = row['image_name']\n",
    "        bounding_boxes = row['bboxes']\n",
    "        classes = row['classes']\n",
    "        yolo_data = []\n",
    "        for bbox, Class in zip(bounding_boxes, classes):\n",
    "            x = bbox[0]\n",
    "            y = bbox[1]\n",
    "            w = bbox[2]\n",
    "            h = bbox[3]\n",
    "            x_center = x + w / 2\n",
    "            y_center = y + h / 2\n",
    "            \n",
    "            x_center /= 512\n",
    "            y_center /= 512\n",
    "            w /= 512\n",
    "            h /= 512\n",
    "            yolo_data.append([Class, x_center, y_center, w, h])\n",
    "        yoy_data = np.array(yolo_data)\n",
    "        np.savetxt(\n",
    "            os.path.join(OUTPUT_PATH, f\"labels/{data_type}/{image_name}.txt\"),\n",
    "            yolo_data,\n",
    "            fmt = [\"%d\", \"%f\", \"%f\", \"%f\", \"%f\"]\n",
    "        )\n",
    "        shutil.copyfile(\n",
    "            os.path.join(INPUT_PATH, f\"train/{image_name}.jpg\"),\n",
    "            os.path.join(OUTPUT_PATH, f\"images/{data_type}/{image_name}.jpg\")\n",
    "        )"
   ]
  },
  {
   "cell_type": "code",
   "execution_count": 8,
   "metadata": {},
   "outputs": [
    {
     "name": "stderr",
     "output_type": "stream",
     "text": [
      "100%|██████████| 1720/1720 [00:02<00:00, 828.78it/s] \n",
      "100%|██████████| 565/565 [00:00<00:00, 1774.41it/s]\n"
     ]
    }
   ],
   "source": [
    "df_train = pd.read_csv('train.csv')\n",
    "df_train.bboxes = df_train.bboxes.apply(ast.literal_eval)\n",
    "df_train.classes = df_train.classes.apply(ast.literal_eval)\n",
    "\n",
    "df_valid = pd.read_csv('validation.csv')\n",
    "df_valid.bboxes = df_valid.bboxes.apply(ast.literal_eval)\n",
    "df_valid.classes = df_valid.classes.apply(ast.literal_eval)\n",
    "\n",
    "process_data(df_train, data_type='train')\n",
    "process_data(df_valid, data_type='validation')"
   ]
  },
  {
   "cell_type": "code",
   "execution_count": 9,
   "metadata": {},
   "outputs": [
    {
     "name": "stdout",
     "output_type": "stream",
     "text": [
      "[INFO] Number images for training: 1720\n",
      "[INFO] Number labels for training: 1720\n",
      "[INFO] Number images for validation: 565\n",
      "[INFO] Number labels for validation: 565\n"
     ]
    }
   ],
   "source": [
    "tank_data_images_train_path = tank_data_images + '/train'\n",
    "tank_data_images_val_path = tank_data_images + '/validation'\n",
    "\n",
    "tank_data_labels_train_path = tank_data_labels + '/train'\n",
    "tank_data_labels_val_path = tank_data_labels + '/validation'\n",
    "\n",
    "path, dirs, files = next(os.walk(tank_data_images_train_path))\n",
    "print('[INFO] Number images for training:', len(files))\n",
    "path, dirs, files = next(os.walk(tank_data_labels_train_path))\n",
    "print('[INFO] Number labels for training:', len(files))\n",
    "\n",
    "path, dirs, files = next(os.walk(tank_data_images_val_path))\n",
    "print('[INFO] Number images for validation:', len(files))\n",
    "path, dirs, files = next(os.walk(tank_data_labels_val_path))\n",
    "print('[INFO] Number labels for validation:', len(files))\n"
   ]
  },
  {
   "cell_type": "code",
   "execution_count": null,
   "metadata": {},
   "outputs": [],
   "source": []
  }
 ],
 "metadata": {
  "kernelspec": {
   "display_name": "Python 3.8.5 64-bit ('virtual-py3': virtualenvwrapper)",
   "name": "python385jvsc74a57bd0fbed841b61b30755285aad1b828a4439308f31124ba3ee1c7f1623edb89e6c69"
  },
  "language_info": {
   "codemirror_mode": {
    "name": "ipython",
    "version": 3
   },
   "file_extension": ".py",
   "mimetype": "text/x-python",
   "name": "python",
   "nbconvert_exporter": "python",
   "pygments_lexer": "ipython3",
   "version": "3.8.5"
  },
  "orig_nbformat": 3
 },
 "nbformat": 4,
 "nbformat_minor": 2
}